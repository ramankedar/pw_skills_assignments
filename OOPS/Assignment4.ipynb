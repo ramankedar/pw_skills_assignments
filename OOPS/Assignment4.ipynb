{
 "cells": [
  {
   "attachments": {},
   "cell_type": "markdown",
   "metadata": {},
   "source": [
    "***\n",
    "### **OOPS Assignment**\n",
    "*Submitted by - Raman Kedar*\n",
    "***"
   ]
  },
  {
   "attachments": {},
   "cell_type": "markdown",
   "metadata": {},
   "source": [
    "Q1. Explain Class and Object with respect to Object-Oriented Programming. Give a suitable example.\n",
    "\n",
    "Ans: In object-oriented programming (OOP), a class is a used for creating objects (instances of the class). A class defines a set of attributes and methods that are common to all objects of that class. An object is an instance of a class. It represents a unique entity that has its own values for the attributes defined in the class, and can perform actions using the methods defined in the class. <br>\n",
    "For example, let's say we want to model a car in a Python program. We could define a Car class that has attributes such as make, model, color, and mileage, and methods such as start, stop, and drive. Here's an example of how this might look:"
   ]
  },
  {
   "cell_type": "code",
   "execution_count": 1,
   "metadata": {},
   "outputs": [
    {
     "name": "stdout",
     "output_type": "stream",
     "text": [
      "Toyota\n",
      "Corolla\n",
      "Blue\n",
      "50000\n",
      "Starting the car\n",
      "Driving the car\n",
      "Stopping the car\n"
     ]
    }
   ],
   "source": [
    "class Car:\n",
    "    def __init__(self, make, model, color, mileage):\n",
    "        self.make = make\n",
    "        self.model = model\n",
    "        self.color = color\n",
    "        self.mileage = mileage\n",
    "\n",
    "    def start(self):\n",
    "        print(\"Starting the car\")\n",
    "\n",
    "    def stop(self):\n",
    "        print(\"Stopping the car\")\n",
    "\n",
    "    def drive(self):\n",
    "        print(\"Driving the car\")\n",
    "\n",
    "# Creating an object of the Car class\n",
    "my_car = Car(\"Toyota\", \"Corolla\", \"Blue\", 50000)\n",
    "\n",
    "# Accessing attributes of the object\n",
    "print(my_car.make)    # Output: Toyota\n",
    "print(my_car.model)   # Output: Corolla\n",
    "print(my_car.color)   # Output: Blue\n",
    "print(my_car.mileage) # Output: 50000\n",
    "\n",
    "# Calling methods of the object\n",
    "my_car.start()  # Output: Starting the car\n",
    "my_car.drive()  # Output: Driving the car\n",
    "my_car.stop()   # Output: Stopping the car"
   ]
  },
  {
   "attachments": {},
   "cell_type": "markdown",
   "metadata": {},
   "source": [
    "***"
   ]
  },
  {
   "attachments": {},
   "cell_type": "markdown",
   "metadata": {},
   "source": [
    "Q2. Name the four pillars of OOPs.\n",
    "\n",
    "Ans:\n",
    "The four pillars of object-oriented programming (OOP) are:\n",
    "\n",
    "1. Encapsulation: This refers to the practice of hiding the internal details of an object from the outside world and restricting access to its internal state only through a set of public methods. This allows for better organization of code, as well as improved security and flexibility.\n",
    "\n",
    "2. Inheritance: This allows a new class to be based on an existing class, inheriting its properties and methods. This promotes code reuse and allows for more efficient code maintenance and development.\n",
    "\n",
    "3. Polymorphism: This allows objects to take on multiple forms or types. It enables the use of a single interface to represent multiple types of objects, promoting code reuse and flexibility.\n",
    "\n",
    "4. Abstraction: This involves focusing only on the relevant information of an object, and ignoring unnecessary details. Abstraction enables more efficient design, maintenance, and modification of code."
   ]
  },
  {
   "attachments": {},
   "cell_type": "markdown",
   "metadata": {},
   "source": [
    "***"
   ]
  },
  {
   "attachments": {},
   "cell_type": "markdown",
   "metadata": {},
   "source": [
    "Q3. Explain why the `__init__()` function is used. Give a suitable example.\n",
    "\n",
    "Ans: In Python, `__init__()` is a special method that is called when an object is created from a class. It is used to initialize the attributes of the object and perform any other setup tasks that are required.\n",
    "\n",
    "The `__init__()` method takes the self parameter, which refers to the object being created, and any other parameters that are needed to initialize the object's attributes. Within the method, the attributes can be initialized using the self.attribute_name = value syntax.\n",
    "\n",
    "Here's an example of how the `__init__()` method might be used in a Python class:"
   ]
  },
  {
   "cell_type": "code",
   "execution_count": 2,
   "metadata": {},
   "outputs": [
    {
     "name": "stdout",
     "output_type": "stream",
     "text": [
      "Hello, my name is Alice and I am 25 years old.\n"
     ]
    }
   ],
   "source": [
    "class Person:\n",
    "    def __init__(self, name, age):\n",
    "        self.name = name\n",
    "        self.age = age\n",
    "\n",
    "    def say_hello(self):\n",
    "        print(f\"Hello, my name is {self.name} and I am {self.age} years old.\")\n",
    "\n",
    "# Creating a Person object\n",
    "person1 = Person(\"Alice\", 25)\n",
    "\n",
    "# Calling a method of the Person object\n",
    "person1.say_hello()"
   ]
  },
  {
   "attachments": {},
   "cell_type": "markdown",
   "metadata": {},
   "source": [
    "***"
   ]
  },
  {
   "attachments": {},
   "cell_type": "markdown",
   "metadata": {},
   "source": [
    "Q4. Why self is used in OOPs?\n",
    "\n",
    "Ans: In OOPs, `self` refers to the instance of a class that is currently being manipulated. It is a reference to the object itself, and is used to access the object's properties and methods within the class. <br>\n",
    "\n",
    "In Python, `self` is the first parameter of any instance method in a class, and is a convention followed by most Python developers. When a method is called on an object, the object itself is automatically passed as the self parameter. This allows us to access the object's properties and methods within the method."
   ]
  },
  {
   "attachments": {},
   "cell_type": "markdown",
   "metadata": {},
   "source": [
    "***"
   ]
  },
  {
   "attachments": {},
   "cell_type": "markdown",
   "metadata": {},
   "source": [
    "Q5. What is inheritance? Give an example for each type of inheritance.\n",
    "\n",
    "Ans: Inheritance is a feature of object-oriented programming (OOP) that allows one class to inherit properties and methods from another class. Inheritance promotes code reusability and helps to organize code in a hierarchical manner.\n",
    "Here's an example:"
   ]
  },
  {
   "cell_type": "code",
   "execution_count": 3,
   "metadata": {},
   "outputs": [
    {
     "name": "stdout",
     "output_type": "stream",
     "text": [
      "Animal speaks\n",
      "Woof!\n"
     ]
    }
   ],
   "source": [
    "class Animal:\n",
    "    def __init__(self, name):\n",
    "        self.name = name\n",
    "    \n",
    "    def speak(self):\n",
    "        print(\"Animal speaks\")\n",
    "\n",
    "class Dog(Animal):\n",
    "    def __init__(self, name, breed):\n",
    "        super().__init__(name)\n",
    "        self.breed = breed\n",
    "    \n",
    "    def bark(self):\n",
    "        print(\"Woof!\")\n",
    "    \n",
    "my_dog = Dog(\"Tommy\", \"Golden Retriever\")\n",
    "my_dog.speak()\n",
    "my_dog.bark()"
   ]
  },
  {
   "attachments": {},
   "cell_type": "markdown",
   "metadata": {},
   "source": [
    "***\n",
    "**End of the assignment #4**\n",
    "***"
   ]
  }
 ],
 "metadata": {
  "kernelspec": {
   "display_name": "Python 3",
   "language": "python",
   "name": "python3"
  },
  "language_info": {
   "codemirror_mode": {
    "name": "ipython",
    "version": 3
   },
   "file_extension": ".py",
   "mimetype": "text/x-python",
   "name": "python",
   "nbconvert_exporter": "python",
   "pygments_lexer": "ipython3",
   "version": "3.11.2"
  },
  "orig_nbformat": 4
 },
 "nbformat": 4,
 "nbformat_minor": 2
}
