{
 "cells": [
  {
   "attachments": {},
   "cell_type": "markdown",
   "metadata": {},
   "source": [
    "***\n",
    "### **Tuple, Set & Dict Assignment**\n",
    "*Submitted by - Raman Kedar*\n",
    "***"
   ]
  },
  {
   "attachments": {},
   "cell_type": "markdown",
   "metadata": {},
   "source": [
    "Q1. What are the characteristics of the tuples? Is tuple immutable?\n",
    "\n",
    "Ans: \n",
    "1. Tuples are class of data structures that can store one or more objects or values.\n",
    "2. They are defined using parenthesis.\n",
    "3. They are indexed.\n",
    "4. They can contain duplicate items.\n",
    "5. Yes, tuples are immutable and the values inside it cannot be changed once they are defined.\n",
    "***"
   ]
  },
  {
   "attachments": {},
   "cell_type": "markdown",
   "metadata": {},
   "source": [
    "Q2. What are the two tuple methods in python? Give an example of each method. Give a reason why tuples have only two in-built methods as compared to Lists.\n",
    "\n",
    "Ans:\n",
    "The two tuple methods are count () and index()\n",
    "1. count() method tells how many times a specified value has occured.\n",
    "2. index() method returns the position of the specified value. "
   ]
  },
  {
   "cell_type": "code",
   "execution_count": 1,
   "metadata": {},
   "outputs": [
    {
     "name": "stdout",
     "output_type": "stream",
     "text": [
      "The letter a has occured 3 times\n"
     ]
    }
   ],
   "source": [
    "# example of count() method:\n",
    "letters = ('a', 'b', 'c', 'd', 'a', 'e', 'a')\n",
    "count = letters.count('a')\n",
    "print('The letter a has occured {} times'.format(count)) "
   ]
  },
  {
   "cell_type": "code",
   "execution_count": 2,
   "metadata": {},
   "outputs": [
    {
     "name": "stdout",
     "output_type": "stream",
     "text": [
      "The index of letter e is 1\n"
     ]
    }
   ],
   "source": [
    "# example of index() method:\n",
    "letters = ('a', 'e', 'i', 'o', 'i', 'u')\n",
    "index = letters.index('e')\n",
    "print('The index of letter e is {}'.format(index)) "
   ]
  },
  {
   "attachments": {},
   "cell_type": "markdown",
   "metadata": {},
   "source": [
    "A unexpected change or error may occur in a list, but in a tuples, changes and errors don't usually occur because of immutability. Hence, it has only two in-built methods.\n",
    "***"
   ]
  },
  {
   "attachments": {},
   "cell_type": "markdown",
   "metadata": {},
   "source": [
    "Q3. Which collection datatypes in python do not allow duplicate items? Write a code using a set to remove duplicates from the given list. <br>\n",
    "List = [1, 1, 1, 2, 1, 3, 1, 4, 2, 1, 2, 2, 2, 3, 2, 4, 3, 1, 3, 2, 3, 3, 3, 4, 4, 1, 4, 2, 4, 3, 4, 4] <br>\n",
    "\n",
    "Ans:\n",
    "The set does not allow duplicates in python."
   ]
  },
  {
   "cell_type": "code",
   "execution_count": 3,
   "metadata": {},
   "outputs": [
    {
     "name": "stdout",
     "output_type": "stream",
     "text": [
      "Original list: [1, 1, 1, 2, 1, 3, 1, 4, 2, 1, 2, 2, 2, 3, 2, 4, 3, 1, 3, 2, 3, 3, 3, 4, 4, 1, 4, 2, 4, 3, 4, 4]\n",
      "List after removing duplicates: [1, 2, 3, 4]\n"
     ]
    }
   ],
   "source": [
    "# code to remove duplicates from the given list:\n",
    "given_list = [1, 1, 1, 2, 1, 3, 1, 4, 2, 1, 2, 2, 2, 3, 2, 4, 3, 1, 3, 2, 3, 3, 3, 4, 4, 1, 4, 2, 4, 3, 4, 4]\n",
    "print('Original list:', given_list)\n",
    "print('List after removing duplicates:', list(set(given_list)))"
   ]
  },
  {
   "attachments": {},
   "cell_type": "markdown",
   "metadata": {},
   "source": [
    "***"
   ]
  },
  {
   "attachments": {},
   "cell_type": "markdown",
   "metadata": {},
   "source": [
    "Q4. Explain the difference between the union() and update() methods for a set. Give an example of each method.\n",
    "\n",
    "Ans:\n",
    "1. union() method returns a set that contains all items from the original set, and all items from the specified set.\n",
    "2. update() method updates the set on which this method is called with all the distinct elements present in all the iterables."
   ]
  },
  {
   "cell_type": "code",
   "execution_count": 4,
   "metadata": {},
   "outputs": [
    {
     "name": "stdout",
     "output_type": "stream",
     "text": [
      "A: {1, 2, 3, 4, 5}\n",
      "B: {4, 5, 6, 7, 8, 9}\n",
      "Union of A & B: {1, 2, 3, 4, 5, 6, 7, 8, 9}\n"
     ]
    }
   ],
   "source": [
    "# example of union():\n",
    "A = {1, 2, 3, 4, 5}\n",
    "B = {4, 5, 6, 7, 8, 9}\n",
    "print('A:', A)\n",
    "print('B:', B)\n",
    "print('Union of A & B:', A.union(B))"
   ]
  },
  {
   "cell_type": "code",
   "execution_count": 5,
   "metadata": {},
   "outputs": [
    {
     "name": "stdout",
     "output_type": "stream",
     "text": [
      "A: {1, 2, 3, 4, 5}\n",
      "B: {4, 5, 6, 7, 8, 9}\n",
      "Set A after updating with B: {1, 2, 3, 4, 5, 6, 7, 8, 9}\n"
     ]
    }
   ],
   "source": [
    "# example of update():\n",
    "A = {1, 2, 3, 4, 5}\n",
    "B = {4, 5, 6, 7, 8, 9}\n",
    "print('A:', A)\n",
    "print('B:', B)\n",
    "A.update(B)\n",
    "print('Set A after updating with B:', A)"
   ]
  },
  {
   "attachments": {},
   "cell_type": "markdown",
   "metadata": {},
   "source": [
    "***"
   ]
  },
  {
   "attachments": {},
   "cell_type": "markdown",
   "metadata": {},
   "source": [
    "Q5. What is a dictionary? Give an example. Also, state whether a dictionary is ordered or unordered.\n",
    "\n",
    "Ans: Dictionary is the collection of keys and its values held by the respective keys. Dictionaries are ordered, changeable and do not allow duplicates."
   ]
  },
  {
   "cell_type": "code",
   "execution_count": 6,
   "metadata": {},
   "outputs": [
    {
     "name": "stdout",
     "output_type": "stream",
     "text": [
      "{'name': 'sudh', 'course': 'data science masters', 'age': 25, 'platform': 'pw skills'}\n"
     ]
    }
   ],
   "source": [
    "# Example of dictionary:\n",
    "my_dict = {\n",
    "    'name': 'sudh',\n",
    "    'course': 'data science masters',\n",
    "    'age': 25,\n",
    "    'platform': 'pw skills'\n",
    "}\n",
    "print(my_dict)"
   ]
  },
  {
   "attachments": {},
   "cell_type": "markdown",
   "metadata": {},
   "source": [
    "***"
   ]
  },
  {
   "attachments": {},
   "cell_type": "markdown",
   "metadata": {},
   "source": [
    "Q6. Can we create a nested dictionary? If so, please give an example by creating a simple one-level nested dictionary.\n",
    "\n",
    "Ans: Yes, we can create nested dictionary in python."
   ]
  },
  {
   "cell_type": "code",
   "execution_count": 7,
   "metadata": {},
   "outputs": [
    {
     "name": "stdout",
     "output_type": "stream",
     "text": [
      "{'dict1': {'name': 'sudh', 'age': 30}, 'dict2': {'course': 'DS masters'}, 'dict3': {'platform': 'pw skills'}}\n"
     ]
    }
   ],
   "source": [
    "# Example of nested dictionary:\n",
    "nested_dict = {\n",
    "    'dict1': {'name': 'sudh', 'age': 30},\n",
    "    'dict2': {'course': 'DS masters'},\n",
    "    'dict3': {'platform': 'pw skills'}}\n",
    "print(nested_dict)"
   ]
  },
  {
   "attachments": {},
   "cell_type": "markdown",
   "metadata": {},
   "source": [
    "***"
   ]
  },
  {
   "attachments": {},
   "cell_type": "markdown",
   "metadata": {},
   "source": [
    "Q7. Using setdefault() method, create key named topics in the given dictionary and also add the value of the key as this list ['Python', 'Machine Learning’, 'Deep Learning'] <br>\n",
    "dict1 = {'language' : 'Python', 'course': 'Data Science Masters'}"
   ]
  },
  {
   "cell_type": "code",
   "execution_count": 8,
   "metadata": {},
   "outputs": [
    {
     "name": "stdout",
     "output_type": "stream",
     "text": [
      "Dict after using setdefault: {'language': 'Python', 'course': 'Data Science Masters', 'topics': ['Python', 'Machine Learning', 'Deep Learning']}\n"
     ]
    }
   ],
   "source": [
    "# Ans:\n",
    "dict1 = {'language' : 'Python', 'course': 'Data Science Masters'}\n",
    "lst = ['Python', 'Machine Learning', 'Deep Learning']\n",
    "updated_dict = dict1.setdefault('topics', ['Python', 'Machine Learning', 'Deep Learning'])\n",
    "print('Dict after using setdefault:', dict1)"
   ]
  },
  {
   "attachments": {},
   "cell_type": "markdown",
   "metadata": {},
   "source": [
    "***"
   ]
  },
  {
   "attachments": {},
   "cell_type": "markdown",
   "metadata": {},
   "source": [
    "Q8. What are the three view objects in dictionaries? Use the three in-built methods in python to display these three view objects for the given dictionary. <br>\n",
    "dict1 = {'Sport': 'Cricket' , 'Teams': ['India', 'Australia', 'England', 'South Africa', 'Sri Lanka', 'New Zealand']}\n",
    "\n",
    "Ans: The three view objects in the dictionaries are key, values and items. Keys holds all the keys of the dictionary, the values objects holds all the values, whereas the items holds the key-value pairs."
   ]
  },
  {
   "cell_type": "code",
   "execution_count": 9,
   "metadata": {},
   "outputs": [
    {
     "name": "stdout",
     "output_type": "stream",
     "text": [
      "Keys: dict_keys(['Sport', 'Teams'])\n",
      "Values: dict_values(['Cricket', ['India', 'Australia', 'England', 'South Africa', 'Sri Lanka', 'New Zealand']])\n",
      "Items: dict_items([('Sport', 'Cricket'), ('Teams', ['India', 'Australia', 'England', 'South Africa', 'Sri Lanka', 'New Zealand'])])\n"
     ]
    }
   ],
   "source": [
    "dict1 = {'Sport': 'Cricket' , 'Teams': ['India', 'Australia', 'England', 'South Africa', 'Sri Lanka', 'New Zealand']}\n",
    "keys = dict1.keys()\n",
    "values = dict1.values()\n",
    "items = dict1.items()\n",
    "print('Keys:', keys)\n",
    "print('Values:', values)\n",
    "print('Items:', items)"
   ]
  },
  {
   "attachments": {},
   "cell_type": "markdown",
   "metadata": {},
   "source": [
    "***\n",
    "**End of the assignment #1**\n",
    "***"
   ]
  }
 ],
 "metadata": {
  "kernelspec": {
   "display_name": "Python 3",
   "language": "python",
   "name": "python3"
  },
  "language_info": {
   "codemirror_mode": {
    "name": "ipython",
    "version": 3
   },
   "file_extension": ".py",
   "mimetype": "text/x-python",
   "name": "python",
   "nbconvert_exporter": "python",
   "pygments_lexer": "ipython3",
   "version": "3.11.2"
  },
  "orig_nbformat": 4
 },
 "nbformat": 4,
 "nbformat_minor": 2
}
